{
 "cells": [
  {
   "cell_type": "markdown",
   "metadata": {},
   "source": [
    "Logistic Regression (For Binary/Multiclass Classification)\n",
    "\n",
    "\tSteps:\n",
    "\t\t1.Choose a classification target (e.g., converting NPHR into a binary/multiclass target if needed).\n",
    "\t\t2.Preprocess the data (handle missing values, scale features).\n",
    "\t\t3.Train and evaluate the Logistic Regression model."
   ]
  },
  {
   "cell_type": "code",
   "execution_count": 3,
   "metadata": {},
   "outputs": [],
   "source": [
    "import pandas as pd\n",
    "import numpy as np\n",
    "import seaborn as sns\n",
    "import matplotlib.pyplot as plt\n",
    "from sklearn.model_selection import train_test_split\n",
    "from sklearn.metrics import mean_squared_error, r2_score\n",
    "import joblib"
   ]
  },
  {
   "cell_type": "code",
   "execution_count": 4,
   "metadata": {},
   "outputs": [],
   "source": [
    "from sklearn.linear_model import LogisticRegression\n",
    "from sklearn.metrics import classification_report, confusion_matrix, accuracy_score\n",
    "from sklearn.preprocessing import StandardScaler"
   ]
  },
  {
   "cell_type": "code",
   "execution_count": 5,
   "metadata": {},
   "outputs": [
    {
     "name": "stdout",
     "output_type": "stream",
     "text": [
      "   Unnamed: 0    Tanggal  Main steam flow (t/h)  \\\n",
      "0           1 2024-01-01             829.895767   \n",
      "1           2 2024-01-02             836.935916   \n",
      "2           3 2024-01-03             828.634270   \n",
      "3           4 2024-01-04             830.700920   \n",
      "4           5 2024-01-05             840.836756   \n",
      "\n",
      "   Main steam temperature (boiler side) (℃)  \\\n",
      "0                                566.840549   \n",
      "1                                566.881735   \n",
      "2                                567.291646   \n",
      "3                                566.777897   \n",
      "4                                566.164801   \n",
      "\n",
      "   Main steam pressure (boiler side) (Mpa)  \\\n",
      "0                                14.459605   \n",
      "1                                14.382862   \n",
      "2                                14.598511   \n",
      "3                                14.672297   \n",
      "4                                14.718665   \n",
      "\n",
      "   Reheat steam temperature (boiler side) (℃)  \\\n",
      "0                                  565.474815   \n",
      "1                                  564.155584   \n",
      "2                                  565.344131   \n",
      "3                                  564.914579   \n",
      "4                                  564.701515   \n",
      "\n",
      "   Superheater desuperheating water flow (t/h)  \\\n",
      "0                                    90.976032   \n",
      "1                                    86.844876   \n",
      "2                                    82.290412   \n",
      "3                                    66.461621   \n",
      "4                                    85.227666   \n",
      "\n",
      "   Reheater desuperheating water flow (t/h)  Feedwater temperature (℃)  \\\n",
      "0                                  2.016360                 230.481989   \n",
      "1                                  6.940147                 230.774681   \n",
      "2                                  2.826383                 230.406344   \n",
      "3                                  4.887414                 230.403508   \n",
      "4                                  1.688371                 230.921149   \n",
      "\n",
      "   Feedwater flow (t/h)  ...  APH Leakage (%)  \\\n",
      "0            837.281693  ...         3.116883   \n",
      "1            839.599386  ...         3.116883   \n",
      "2            838.675835  ...         3.529412   \n",
      "3            833.893038  ...         4.017176   \n",
      "4            846.458445  ...         4.262607   \n",
      "\n",
      "   Corrected Flue Gas Out Temperature (°C)  APH Effectiveness (%)  \\\n",
      "0                               128.685541              69.993690   \n",
      "1                               131.272824              69.626696   \n",
      "2                               130.195594              69.703097   \n",
      "3                               129.588421              70.127871   \n",
      "4                               127.622627              70.946455   \n",
      "\n",
      "   Coal Flow (t/h)  Energy Input From Boiler (Kcal/h)  NTHR (Kcal/Kwh)  \\\n",
      "0          169.409                        721343522.0      2587.779451   \n",
      "1          167.379                        712699782.0      2528.380098   \n",
      "2          164.882                        702067556.0      2522.247372   \n",
      "3          163.784                        697392272.0      2508.605295   \n",
      "4          170.533                        726129514.0      2582.803991   \n",
      "\n",
      "   NPHR (Kcal/Kwh)  Gross Load (MW)  Nett Load (MW)  HHV (Kcal/Kg)  \n",
      "0      2767.382581           294.35          278.75         4258.0  \n",
      "1      2704.439082           297.41          281.88         4258.0  \n",
      "2      2697.590772           294.11          278.35         4258.0  \n",
      "3      2684.435843           294.01          278.00         4258.0  \n",
      "4      2756.461036           297.75          281.14         4258.0  \n",
      "\n",
      "[5 rows x 56 columns]\n",
      "<class 'pandas.core.frame.DataFrame'>\n",
      "RangeIndex: 93 entries, 0 to 92\n",
      "Data columns (total 56 columns):\n",
      " #   Column                                       Non-Null Count  Dtype         \n",
      "---  ------                                       --------------  -----         \n",
      " 0   Unnamed: 0                                   93 non-null     int64         \n",
      " 1   Tanggal                                      91 non-null     datetime64[ns]\n",
      " 2   Main steam flow (t/h)                        91 non-null     float64       \n",
      " 3   Main steam temperature (boiler side) (℃)     91 non-null     float64       \n",
      " 4   Main steam pressure (boiler side) (Mpa)      91 non-null     float64       \n",
      " 5   Reheat steam temperature (boiler side) (℃)   91 non-null     float64       \n",
      " 6   Superheater desuperheating water flow (t/h)  91 non-null     float64       \n",
      " 7   Reheater desuperheating water flow (t/h)     91 non-null     float64       \n",
      " 8   Feedwater temperature (℃)                    91 non-null     float64       \n",
      " 9   Feedwater flow (t/h)                         91 non-null     float64       \n",
      " 10  Flue gas temperature (℃)                     91 non-null     float64       \n",
      " 11  Boiler oxygen level (%)                      91 non-null     float64       \n",
      " 12  Main steam temperature (turbine side) (℃)    91 non-null     float64       \n",
      " 13  Main steam pressure (turbine side) (MPa)     91 non-null     float64       \n",
      " 14  Reheat steam temperature (turbine side) (℃)  91 non-null     float64       \n",
      " 15  Reheat steam pressure (turbine side) (MPa)   91 non-null     float64       \n",
      " 16  Control stage pressure (Mpa)                 91 non-null     float64       \n",
      " 17  High exhaust pressure (Mpa)                  91 non-null     float64       \n",
      " 18  Feedwater pressure (MPa)                     91 non-null     float64       \n",
      " 19  Condenser vacuum (kPa)                       91 non-null     float64       \n",
      " 20  Circulating water outlet temperature (℃)     91 non-null     float64       \n",
      " 21  SO2 (mg/m3)                                  91 non-null     float64       \n",
      " 22  Nox (mg/m3)                                  91 non-null     float64       \n",
      " 23  CO (mg/m3)                                   91 non-null     float64       \n",
      " 24  CO2 (ppm)                                    91 non-null     float64       \n",
      " 25  O2 (%)                                       91 non-null     float64       \n",
      " 26  Velocity (m/s)                               91 non-null     float64       \n",
      " 27  Temp. (°C)                                   91 non-null     float64       \n",
      " 28  Pressure (Kpa)                               91 non-null     float64       \n",
      " 29  Flow rate (KNm3/h)                           91 non-null     float64       \n",
      " 30  Opacity (%)                                  91 non-null     float64       \n",
      " 31  Dust (mg/m3)                                 91 non-null     float64       \n",
      " 32  Boiler Eff (%)                               91 non-null     float64       \n",
      " 33  Entalphy inlet MS (kj/kg)                    91 non-null     float64       \n",
      " 34  Entropi Inlet MS (Kj/Kg (Deg C))             91 non-null     float64       \n",
      " 35  Cold Reheat Pressure (Mpa)                   91 non-null     float64       \n",
      " 36  Cold Reheat Temperature (°C)                 91 non-null     float64       \n",
      " 37  Entalphy Cold Reheat (kj/kg)                 91 non-null     float64       \n",
      " 38  Entalphy Isentropis Cold Reheat (kj/kg)      91 non-null     float64       \n",
      " 39  ΔP aktual (Kj/Kg)                            91 non-null     float64       \n",
      " 40  ΔHP isentropis (Kj/Kg)                       91 non-null     float64       \n",
      " 41  HP Turbine eff (%)                           91 non-null     float64       \n",
      " 42  O2 in APH (%)                                91 non-null     float64       \n",
      " 43  O2 Out APH (%)                               91 non-null     float64       \n",
      " 44  Refference Temperature (°C)                  91 non-null     float64       \n",
      " 45  Flue Gas in Temperature (°C)                 91 non-null     float64       \n",
      " 46  APH Leakage (%)                              91 non-null     float64       \n",
      " 47  Corrected Flue Gas Out Temperature (°C)      91 non-null     float64       \n",
      " 48  APH Effectiveness (%)                        91 non-null     float64       \n",
      " 49  Coal Flow (t/h)                              91 non-null     float64       \n",
      " 50  Energy Input From Boiler (Kcal/h)            91 non-null     float64       \n",
      " 51  NTHR (Kcal/Kwh)                              91 non-null     float64       \n",
      " 52  NPHR (Kcal/Kwh)                              91 non-null     float64       \n",
      " 53  Gross Load (MW)                              91 non-null     float64       \n",
      " 54  Nett Load (MW)                               91 non-null     float64       \n",
      " 55  HHV (Kcal/Kg)                                91 non-null     float64       \n",
      "dtypes: datetime64[ns](1), float64(54), int64(1)\n",
      "memory usage: 40.8 KB\n",
      "None\n"
     ]
    }
   ],
   "source": [
    "# Load the dataset\n",
    "file_path = './dataset_combined_final.xlsm'\n",
    "data = pd.read_excel(file_path)\n",
    "\n",
    "# Inspect the dataset\n",
    "print(data.head())\n",
    "print(data.info())"
   ]
  },
  {
   "cell_type": "code",
   "execution_count": 7,
   "metadata": {},
   "outputs": [],
   "source": [
    "# Drop unnecessary columns\n",
    "data.drop(columns=['Unnamed: 0'], inplace=True)\n",
    "\n",
    "# Handle missing values by filling with the mean\n",
    "data.fillna(data.mean(), inplace=True)\n",
    "\n",
    "# Extract useful features from 'Tanggal' (date column)\n",
    "data['Year'] = data['Tanggal'].dt.year\n",
    "data['Month'] = data['Tanggal'].dt.month\n",
    "data['Day'] = data['Tanggal'].dt.day\n",
    "\n",
    "# Drop the original datetime column\n",
    "data.drop(columns=['Tanggal'], inplace=True)"
   ]
  },
  {
   "cell_type": "code",
   "execution_count": 8,
   "metadata": {},
   "outputs": [
    {
     "name": "stdout",
     "output_type": "stream",
     "text": [
      "Top Features Correlated with NPHR:\n",
      "NPHR (Kcal/Kwh)                                1.000000\n",
      "NTHR (Kcal/Kwh)                                0.998191\n",
      "Energy Input From Boiler (Kcal/h)              0.878786\n",
      "Coal Flow (t/h)                                0.875741\n",
      "NPHR_Class                                     0.820520\n",
      "Superheater desuperheating water flow (t/h)    0.610384\n",
      "Condenser vacuum (kPa)                         0.603272\n",
      "Reheat steam pressure (turbine side) (MPa)     0.532259\n",
      "High exhaust pressure (Mpa)                    0.525490\n",
      "Main steam flow (t/h)                          0.525321\n",
      "Cold Reheat Pressure (Mpa)                     0.512148\n",
      "APH Leakage (%)                                0.486613\n",
      "Nox (mg/m3)                                    0.483610\n",
      "Velocity (m/s)                                 0.451944\n",
      "Flow rate (KNm3/h)                             0.451944\n",
      "Name: NPHR (Kcal/Kwh), dtype: float64\n"
     ]
    }
   ],
   "source": [
    "# Calculate correlations with the target variable\n",
    "target = 'NPHR (Kcal/Kwh)'\n",
    "correlation = data.corr()[target].sort_values(ascending=False)\n",
    "\n",
    "# Display top correlated features\n",
    "top_features = correlation.head(15).index.tolist()\n",
    "print(\"Top Features Correlated with NPHR:\")\n",
    "print(correlation.head(15))"
   ]
  },
  {
   "cell_type": "code",
   "execution_count": 9,
   "metadata": {},
   "outputs": [],
   "source": [
    "# Example: Converting NPHR into binary classification\n",
    "data['NPHR_Class'] = (data['NPHR (Kcal/Kwh)'] > data['NPHR (Kcal/Kwh)'].median()).astype(int)\n",
    "\n",
    "# Features and target\n",
    "X = data[top_features].drop(columns=['NPHR (Kcal/Kwh)', 'NPHR_Class'])\n",
    "y = data['NPHR_Class']"
   ]
  },
  {
   "cell_type": "code",
   "execution_count": 10,
   "metadata": {},
   "outputs": [],
   "source": [
    "# Split data\n",
    "X_train, X_test, y_train, y_test = train_test_split(X, y, test_size=0.2, random_state=42)\n",
    "\n",
    "# Scale the data\n",
    "scaler = StandardScaler()\n",
    "X_train_scaled = scaler.fit_transform(X_train)\n",
    "X_test_scaled = scaler.transform(X_test)\n",
    "\n",
    "# Train the Logistic Regression model\n",
    "logistic_model = LogisticRegression()\n",
    "logistic_model.fit(X_train_scaled, y_train)\n",
    "\n",
    "# Predictions\n",
    "y_pred = logistic_model.predict(X_test_scaled)\n",
    "\n"
   ]
  },
  {
   "cell_type": "code",
   "execution_count": 11,
   "metadata": {},
   "outputs": [
    {
     "name": "stdout",
     "output_type": "stream",
     "text": [
      "Confusion Matrix:\n",
      "[[ 7  0]\n",
      " [ 2 10]]\n",
      "\n",
      "Classification Report:\n",
      "              precision    recall  f1-score   support\n",
      "\n",
      "           0       0.78      1.00      0.88         7\n",
      "           1       1.00      0.83      0.91        12\n",
      "\n",
      "    accuracy                           0.89        19\n",
      "   macro avg       0.89      0.92      0.89        19\n",
      "weighted avg       0.92      0.89      0.90        19\n",
      "\n",
      "Accuracy: 0.89\n"
     ]
    }
   ],
   "source": [
    "# Evaluation\n",
    "print(\"Confusion Matrix:\")\n",
    "print(confusion_matrix(y_test, y_pred))\n",
    "print(\"\\nClassification Report:\")\n",
    "print(classification_report(y_test, y_pred))\n",
    "print(f\"Accuracy: {accuracy_score(y_test, y_pred):.2f}\")"
   ]
  },
  {
   "cell_type": "markdown",
   "metadata": {},
   "source": [
    "K-Means Clustering (For Unsupervised Clustering)\n",
    "\n",
    "\tSteps:\n",
    "\t\t1.\tStandardize features (K-Means is sensitive to scale).\n",
    "\t\t2.\tChoose the number of clusters (k) using methods like the Elbow Method.\n",
    "\t\t3.\tFit the K-Means model and analyze cluster assignments."
   ]
  },
  {
   "cell_type": "code",
   "execution_count": 12,
   "metadata": {},
   "outputs": [
    {
     "data": {
      "image/png": "[encoded data removed]",
      "text/plain": [
       "<Figure size 800x500 with 1 Axes>"
      ]
     },
     "metadata": {},
     "output_type": "display_data"
    },
    {
     "name": "stdout",
     "output_type": "stream",
     "text": [
      "Cluster\n",
      "2    38\n",
      "0    36\n",
      "1    19\n",
      "Name: count, dtype: int64\n"
     ]
    }
   ],
   "source": [
    "from sklearn.cluster import KMeans\n",
    "from sklearn.preprocessing import StandardScaler\n",
    "import numpy as np\n",
    "\n",
    "# Standardize features\n",
    "scaler = StandardScaler()\n",
    "X_scaled = scaler.fit_transform(data[top_features].drop(columns=['NPHR (Kcal/Kwh)']))\n",
    "\n",
    "# Determine optimal clusters using Elbow Method\n",
    "inertia = []\n",
    "k_range = range(1, 11)\n",
    "for k in k_range:\n",
    "    kmeans = KMeans(n_clusters=k, random_state=42)\n",
    "    kmeans.fit(X_scaled)\n",
    "    inertia.append(kmeans.inertia_)\n",
    "\n",
    "# Plot Elbow Curve\n",
    "plt.figure(figsize=(8, 5))\n",
    "plt.plot(k_range, inertia, marker='o')\n",
    "plt.title(\"Elbow Method for Optimal Clusters\")\n",
    "plt.xlabel(\"Number of Clusters (k)\")\n",
    "plt.ylabel(\"Inertia\")\n",
    "plt.show()\n",
    "\n",
    "# Fit K-Means with optimal k (e.g., k=3)\n",
    "kmeans = KMeans(n_clusters=3, random_state=42)\n",
    "data['Cluster'] = kmeans.fit_predict(X_scaled)\n",
    "\n",
    "# Analyze cluster assignments\n",
    "print(data['Cluster'].value_counts())"
   ]
  },
  {
   "cell_type": "markdown",
   "metadata": {},
   "source": [
    "Decision Trees (For Classification or Regression)\n",
    "\n",
    "Steps:\n",
    "\t1.\tUse the dataset for either classification or regression tasks.\n",
    "\t2.\tTrain a Decision Tree model and evaluate performance.\n",
    "\n",
    "Code for Classification:"
   ]
  },
  {
   "cell_type": "code",
   "execution_count": 13,
   "metadata": {},
   "outputs": [
    {
     "name": "stdout",
     "output_type": "stream",
     "text": [
      "Confusion Matrix:\n",
      "[[ 7  0]\n",
      " [ 1 11]]\n",
      "\n",
      "Classification Report:\n",
      "              precision    recall  f1-score   support\n",
      "\n",
      "           0       0.88      1.00      0.93         7\n",
      "           1       1.00      0.92      0.96        12\n",
      "\n",
      "    accuracy                           0.95        19\n",
      "   macro avg       0.94      0.96      0.94        19\n",
      "weighted avg       0.95      0.95      0.95        19\n",
      "\n",
      "Accuracy: 0.95\n"
     ]
    }
   ],
   "source": [
    "from sklearn.tree import DecisionTreeClassifier\n",
    "from sklearn.metrics import classification_report, confusion_matrix, accuracy_score\n",
    "\n",
    "# Train the Decision Tree Classifier\n",
    "tree_model = DecisionTreeClassifier(random_state=42)\n",
    "tree_model.fit(X_train, y_train)\n",
    "\n",
    "# Predictions\n",
    "y_pred_tree = tree_model.predict(X_test)\n",
    "\n",
    "# Evaluation\n",
    "print(\"Confusion Matrix:\")\n",
    "print(confusion_matrix(y_test, y_pred_tree))\n",
    "print(\"\\nClassification Report:\")\n",
    "print(classification_report(y_test, y_pred_tree))\n",
    "print(f\"Accuracy: {accuracy_score(y_test, y_pred_tree):.2f}\")\n"
   ]
  },
  {
   "cell_type": "markdown",
   "metadata": {},
   "source": [
    "Key Notes:\n",
    "\n",
    "\t1.\tLogistic Regression:\n",
    "\t•\tIdeal for classification tasks (e.g., predicting if NPHR is high or low).\n",
    "\t•\tRequires categorical or binarized target values.\n",
    "\t\n",
    "    2.\tK-Means Clustering:\n",
    "\t•\tUnsupervised learning for grouping data into clusters based on similarity.\n",
    "\t•\tUseful for exploratory data analysis or identifying patterns.\n",
    "\t\n",
    "    3.\tDecision Trees:\n",
    "\t•\tFlexible for both classification and regression tasks.\n",
    "\t•\tProvides interpretable results, especially with feature importance.\n"
   ]
  }
 ],
 "metadata": {
  "kernelspec": {
   "display_name": "base",
   "language": "python",
   "name": "python3"
  },
  "language_info": {
   "codemirror_mode": {
    "name": "ipython",
    "version": 3
   },
   "file_extension": ".py",
   "mimetype": "text/x-python",
   "name": "python",
   "nbconvert_exporter": "python",
   "pygments_lexer": "ipython3",
   "version": "3.11.7"
  }
 },
 "nbformat": 4,
 "nbformat_minor": 2
}
